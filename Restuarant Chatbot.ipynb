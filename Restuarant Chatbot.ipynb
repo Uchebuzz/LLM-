{
 "cells": [
  {
   "cell_type": "markdown",
   "id": "e0c1a4c7-345e-41a8-b440-2b7377ad3cf6",
   "metadata": {},
   "source": [
    "# Building a Restuarant chatbot that can converse in both Pigin English, Igbo and normal English\n",
    "## Overview\n",
    "A restuarant \"Austa Kitchen\" has an online store but doesn't have time to reply messages on the website, with this tool. They can focus on cooking while The chatbot helps reply customers.\n",
    "\n",
    "## Method\n",
    "I will use Open ai, claude and othe models to enhance responses. The prompts will be given to the system and additional information will be given to further enhance the capability.\n",
    "\n",
    "This chatbot will be trained to be able to recommend other nigerian restuarants and website for more information"
   ]
  },
  {
   "cell_type": "code",
   "execution_count": 225,
   "id": "187f2a33-b00a-42ce-9718-fe05da0eeaef",
   "metadata": {},
   "outputs": [],
   "source": [
    "import gradio as gr\n",
    "import openai as OpenAI\n",
    "from dotenv import load_dotenv\n",
    "import os\n",
    "import anthropic\n",
    "import json"
   ]
  },
  {
   "cell_type": "code",
   "execution_count": 226,
   "id": "aa1331bb-ae27-4d0b-87a4-98c2085d6823",
   "metadata": {},
   "outputs": [
    {
     "name": "stdout",
     "output_type": "stream",
     "text": [
      "OpenAI API Key exists and begins sk-proj-\n"
     ]
    }
   ],
   "source": [
    "load_dotenv(override=True)\n",
    "\n",
    "openai_api_key = os.getenv('OPENAI_API_KEY')\n",
    "if openai_api_key:\n",
    "    print(f\"OpenAI API Key exists and begins {openai_api_key[:8]}\")\n",
    "else:\n",
    "    print(\"OpenAI API Key not set\")\n",
    "    \n",
    "MODEL = \"gpt-4o-mini\"\n",
    "openai = OpenAI"
   ]
  },
  {
   "cell_type": "markdown",
   "id": "ef57e21b-9138-4d63-876b-db00de2572c8",
   "metadata": {},
   "source": [
    "**The system_message is to customize the AI to reply as you.**"
   ]
  },
  {
   "cell_type": "code",
   "execution_count": 243,
   "id": "432fb8f6-7cf8-4836-9261-1983376a4318",
   "metadata": {},
   "outputs": [],
   "source": [
    "system_message = \"You are restuarant chatbot and a customer service, a Nigerian Chef and instructor. \" + \\\n",
    "                \"You should respond truthfully. \" + \\\n",
    "                \"Always respond in pidgin english, english or Igbo Only. \" + \\\n",
    "                \"when asked about how much an item cost, it relates to cooking so respond\"+\\\n",
    "                \"You are nice and polite.\" +\\\n",
    "                \"When asked about your name, always say Austa Kitchen\" +\\\n",
    "                \"when the user says hi YOU MUST REPLY with I am Austa, owner of Austa Kitchen and say something nice\" +\\\n",
    "                \"Always ask for review at the end of the customer order\" +\\\n",
    "                \"You are also to give a price order summary and list the menu\"+\\\n",
    "                \"Always reply politely and humourously\"+\\\n",
    "                    \"when asked about another question other than Austa kitchen and food RESPOND with 'Please make we talk the real matter way de ground'\" +\\\n",
    "                \"When asked what is your menu, STRICTLY reply with Jollof rice, eba and soup, fried rice, fish and chicken\""
   ]
  },
  {
   "cell_type": "code",
   "execution_count": 244,
   "id": "2a350cfa-c272-4719-afff-e2ab6f2f73a8",
   "metadata": {},
   "outputs": [],
   "source": [
    "def chat(message, history):\n",
    "        messages = [\n",
    "                {\"role\":\"system\", \"content\": system_message}] + history + [{\"role\": \"user\", \"content\": message}]\n",
    "        \n",
    "        response = openai.chat.completions.create(\n",
    "            model = \"gpt-4o-mini\", messages=messages)\n",
    "            \n",
    "        return response.choices[0].message.content"
   ]
  },
  {
   "cell_type": "markdown",
   "id": "95c71e92-4e45-4955-a9da-fd2e5a7cd542",
   "metadata": {},
   "source": [
    "## Testing the system"
   ]
  },
  {
   "cell_type": "code",
   "execution_count": 245,
   "id": "a835cbee-4bf8-40d5-9951-527307b51119",
   "metadata": {},
   "outputs": [
    {
     "name": "stdout",
     "output_type": "stream",
     "text": [
      "* Running on local URL:  http://127.0.0.1:7909\n",
      "* Running on public URL: https://8af1286dfa91191117.gradio.live\n",
      "\n",
      "This share link expires in 72 hours. For free permanent hosting and GPU upgrades, run `gradio deploy` from the terminal in the working directory to deploy to Hugging Face Spaces (https://huggingface.co/spaces)\n"
     ]
    },
    {
     "data": {
      "text/html": [
       "<div><iframe src=\"https://8af1286dfa91191117.gradio.live\" width=\"100%\" height=\"500\" allow=\"autoplay; camera; microphone; clipboard-read; clipboard-write;\" frameborder=\"0\" allowfullscreen></iframe></div>"
      ],
      "text/plain": [
       "<IPython.core.display.HTML object>"
      ]
     },
     "metadata": {},
     "output_type": "display_data"
    },
    {
     "data": {
      "text/plain": []
     },
     "execution_count": 245,
     "metadata": {},
     "output_type": "execute_result"
    }
   ],
   "source": [
    "gr.ChatInterface(fn=chat, \n",
    "                 type=\"messages\",\n",
    "                 title =\"Kitchen Assistant Chatbot\").launch(share= True)"
   ]
  },
  {
   "cell_type": "code",
   "execution_count": 246,
   "id": "38bb94c0-da1a-450a-b458-f3d7063f7b99",
   "metadata": {},
   "outputs": [],
   "source": [
    "# menu = {\"Fried Rice\": \"500 naira\", \"beans\":\"200 naira\", \"Jollof Rice\" : \"50 naira\",\n",
    "#          \"7up\": \"300 naira\", \"Eba and soup\": \"200 naira\", \"Fish\" : \"500 naira\", \n",
    "#          \"Chicken\" : \"700 naira\"}"
   ]
  },
  {
   "cell_type": "markdown",
   "id": "18c7a3f3-d585-4dc6-ad63-f938f6aeadcd",
   "metadata": {},
   "source": [
    "## Creating a list for the menu so the LLM can be able to locate and use it"
   ]
  },
  {
   "cell_type": "code",
   "execution_count": 248,
   "id": "26de8992-794a-4c10-a911-375aa97ee470",
   "metadata": {},
   "outputs": [],
   "source": [
    "# items = {\"Egusi\": \"500 naira\", \"beans\": \"200 naira\"}\n",
    "menu = {\"fried rice\": \"500 naira\", \"beans\":\"200 naira\", \"jollof rice\" : \"50 naira\",\n",
    "         \"efo riro\": \"300 naira\", \"eba and soup\": \"200 naira\", \"fish\" : \"500 naira\", \n",
    "         \"chicken\" : \"700 naira\"}\n",
    "\n",
    "#create a function to call it\n",
    "def get_item_price(item_name):\n",
    "    print(f\"Tool get_item_price called for {item_name}\") \n",
    "    item = item_name.lower() #convert item name to lower case\n",
    "    return menu.get(item, \"Unknown\")"
   ]
  },
  {
   "cell_type": "code",
   "execution_count": 249,
   "id": "e90aebd4-31b5-4d4f-a3a4-1bcc571481cc",
   "metadata": {},
   "outputs": [
    {
     "name": "stdout",
     "output_type": "stream",
     "text": [
      "Tool get_item_price called for Jollof rice\n"
     ]
    },
    {
     "data": {
      "text/plain": [
       "'50 naira'"
      ]
     },
     "execution_count": 249,
     "metadata": {},
     "output_type": "execute_result"
    }
   ],
   "source": [
    "get_item_price(\"Jollof rice\")"
   ]
  },
  {
   "cell_type": "code",
   "execution_count": 250,
   "id": "2072f99b-4aac-4308-ac14-c0c03493ab0c",
   "metadata": {},
   "outputs": [],
   "source": [
    "# There's a particular dictionary structure that's required to describe our function:\n",
    "\n",
    "price_function = {\n",
    "    \"name\": \"get_item_price\",\n",
    "    \"description\": \"Get the price of a food item in the menu. Call this whenever you need to know the price for an item, for example when a customer asks 'How much does a beans cost'. When asked to list the menu, list the items here\",\n",
    "    \"parameters\": {\n",
    "        \"type\": \"object\",\n",
    "        \"properties\": {\n",
    "            \"item\": {\n",
    "                \"type\": \"string\",\n",
    "                \"description\": \"The menu the customer may be interested in buying\",\n",
    "            },\n",
    "        },\n",
    "        \"required\": [\"item\"],\n",
    "        \"additionalProperties\": False\n",
    "    }\n",
    "}"
   ]
  },
  {
   "cell_type": "code",
   "execution_count": 251,
   "id": "c40f49e6-5c4f-478e-9737-eb0b58f341c1",
   "metadata": {},
   "outputs": [],
   "source": [
    "tools = [{\"type\": \"function\", \"function\": price_function}]"
   ]
  },
  {
   "cell_type": "code",
   "execution_count": 252,
   "id": "c8b245ca-6505-49d4-b19c-064046b87905",
   "metadata": {},
   "outputs": [],
   "source": [
    "def chat(message, history):\n",
    "    messages = [{\"role\": \"system\", \"content\": system_message}] + history + [{\"role\": \"user\", \"content\": message}]\n",
    "    response = openai.chat.completions.create(model=MODEL, messages=messages, tools=tools)\n",
    "\n",
    "    if response.choices[0].finish_reason==\"tool_calls\":\n",
    "        message = response.choices[0].message\n",
    "        response, item = handle_tool_call(message)\n",
    "        messages.append(message)\n",
    "        messages.append(response)\n",
    "        response = openai.chat.completions.create(model=MODEL, messages=messages)\n",
    "    \n",
    "    return response.choices[0].message.content"
   ]
  },
  {
   "cell_type": "code",
   "execution_count": 253,
   "id": "4e7e1685-cf3e-4fee-968b-3e7d9acb8a4d",
   "metadata": {},
   "outputs": [],
   "source": [
    "# We have to write that function handle_tool_call:\n",
    "\n",
    "def handle_tool_call(message):\n",
    "    tool_call = message.tool_calls[0]\n",
    "    arguments = json.loads(tool_call.function.arguments)\n",
    "    item = arguments.get('item')\n",
    "    price = get_item_price(item)\n",
    "    response = {\n",
    "        \"role\": \"tool\",\n",
    "        \"content\": json.dumps({\"item\": item,\"price\": price}),\n",
    "        \"tool_call_id\": tool_call.id\n",
    "    }\n",
    "    return response, item"
   ]
  },
  {
   "cell_type": "code",
   "execution_count": 254,
   "id": "b8255bb4-d9ec-4c81-86a8-a4e95df87ee6",
   "metadata": {},
   "outputs": [],
   "source": [
    "# def handle_tool_call(message):\n",
    "#     \"\"\"\n",
    "#     Handles multiple tool calls from an assistant message, executes the corresponding functions,\n",
    "#     and returns a list of tool response messages.\n",
    "\n",
    "#     Args:\n",
    "#         message (Message): The assistant message containing the tool calls.\n",
    "\n",
    "#     Returns:\n",
    "#         list: A list of tool response messages (dictionaries).\n",
    "#                Each tool response message contains role, content, and tool_call_id.\n",
    "#     \"\"\"\n",
    "#     if not message.tool_calls:\n",
    "#         raise ValueError(\"Message does not contain any tool calls.\")\n",
    "\n",
    "#     tool_outputs = []\n",
    "\n",
    "#     for tool_call in message.tool_calls:\n",
    "#         tool_call_id = tool_call.id\n",
    "\n",
    "#         try:\n",
    "#             arguments = json.loads(tool_call.function.arguments)\n",
    "#         except json.JSONDecodeError as e:\n",
    "#             tool_outputs.append({\n",
    "#                 \"role\": \"tool\",\n",
    "#                 \"content\": json.dumps({\"error\": f\"Invalid JSON in tool call arguments: {e.msg}\"}),\n",
    "#                 \"tool_call_id\": tool_call_id\n",
    "#             })\n",
    "#             continue  # Move to the next tool call\n",
    "\n",
    "#         item = arguments.get('item')\n",
    "\n",
    "#         if not item:\n",
    "#             tool_outputs.append({\n",
    "#                 \"role\": \"tool\",\n",
    "#                 \"content\": json.dumps({\"error\": \"Item name not provided in tool call arguments.\"}),\n",
    "#                 \"tool_call_id\": tool_call_id\n",
    "#             })\n",
    "#             continue  # Move to the next tool call\n",
    "\n",
    "#         function_name = tool_call.function.name\n",
    "\n",
    "#         if function_name == \"get_item_price\":\n",
    "#             price = get_item_price(item)\n",
    "#             response_content = json.dumps({\"item\": item, \"price\": price})\n",
    "#         else:\n",
    "#             response_content = json.dumps({\"error\": f\"Tool function '{function_name}' not found.\"})\n",
    "\n",
    "#         tool_outputs.append({\n",
    "#             \"role\": \"tool\",\n",
    "#             \"content\": response_content,\n",
    "#             \"tool_call_id\": tool_call_id\n",
    "#         })\n",
    "\n",
    "#     return tool_outputs"
   ]
  },
  {
   "cell_type": "code",
   "execution_count": 255,
   "id": "d46e0644-27f3-4962-8810-5bde1654f961",
   "metadata": {},
   "outputs": [
    {
     "name": "stdout",
     "output_type": "stream",
     "text": [
      "* Running on local URL:  http://127.0.0.1:7910\n",
      "* Running on public URL: https://e3918693903e4b3274.gradio.live\n",
      "\n",
      "This share link expires in 72 hours. For free permanent hosting and GPU upgrades, run `gradio deploy` from the terminal in the working directory to deploy to Hugging Face Spaces (https://huggingface.co/spaces)\n"
     ]
    },
    {
     "data": {
      "text/html": [
       "<div><iframe src=\"https://e3918693903e4b3274.gradio.live\" width=\"100%\" height=\"500\" allow=\"autoplay; camera; microphone; clipboard-read; clipboard-write;\" frameborder=\"0\" allowfullscreen></iframe></div>"
      ],
      "text/plain": [
       "<IPython.core.display.HTML object>"
      ]
     },
     "metadata": {},
     "output_type": "display_data"
    },
    {
     "data": {
      "text/plain": []
     },
     "execution_count": 255,
     "metadata": {},
     "output_type": "execute_result"
    }
   ],
   "source": [
    "#gr.ChatInterface(fn=chat, type=\"messages\").launch()\n",
    "\n",
    "gr.ChatInterface(\n",
    "    fn=chat, \n",
    "    type=\"messages\",\n",
    "    title=\"Welcome to Austa Kitchen\",          # Title shown at the top of the interface\n",
    "    description=\"Ask me anything about Austa Kitchen!\"  # Label shown below the title\n",
    ").launch(share = True)"
   ]
  },
  {
   "cell_type": "code",
   "execution_count": null,
   "id": "e4335c07-2a8c-44dd-8fb0-b725ac97bbe2",
   "metadata": {},
   "outputs": [],
   "source": []
  },
  {
   "cell_type": "code",
   "execution_count": null,
   "id": "701331ee-57e5-4923-be08-59eca6b999c1",
   "metadata": {},
   "outputs": [],
   "source": []
  },
  {
   "cell_type": "code",
   "execution_count": null,
   "id": "fac3e955-fd46-42f9-9862-24f7f6b2d803",
   "metadata": {},
   "outputs": [],
   "source": []
  }
 ],
 "metadata": {
  "kernelspec": {
   "display_name": "Python 3 (ipykernel)",
   "language": "python",
   "name": "python3"
  },
  "language_info": {
   "codemirror_mode": {
    "name": "ipython",
    "version": 3
   },
   "file_extension": ".py",
   "mimetype": "text/x-python",
   "name": "python",
   "nbconvert_exporter": "python",
   "pygments_lexer": "ipython3",
   "version": "3.11.11"
  }
 },
 "nbformat": 4,
 "nbformat_minor": 5
}
